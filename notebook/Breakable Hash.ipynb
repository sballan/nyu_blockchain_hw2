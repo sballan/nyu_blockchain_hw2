{
 "cells": [
  {
   "cell_type": "markdown",
   "id": "5b71a6e7",
   "metadata": {},
   "source": [
    "Samuel Ballan\n",
    "\n",
    "sb7875@nyu.edu"
   ]
  },
  {
   "cell_type": "markdown",
   "id": "3951af91",
   "metadata": {},
   "source": [
    "Hashing algorithm based on work by by [Professor Daniel J. Bernstein](https://www.partow.net/programming/hashfunctions)\n",
    "\n",
    "Our `BreakableHash` module has two methods: `call` executes a hash functions on a string, and `find_collision` will iterate through strings until a collision is found.  The character set we iterate through is the standard 36 character set in Ruby, comprised of characters 0-9 and a-z."
   ]
  },
  {
   "cell_type": "code",
   "execution_count": 1,
   "id": "e6fc5bff",
   "metadata": {},
   "outputs": [
    {
     "data": {
      "text/plain": [
       ":find_collision"
      ]
     },
     "execution_count": 1,
     "metadata": {},
     "output_type": "execute_result"
    }
   ],
   "source": [
    "module BreakableHash\n",
    "  extend self\n",
    "  \n",
    "  StartPrime = 5381\n",
    "  BitShift = 7\n",
    "  \n",
    "  attr_accessor :mod_prime\n",
    "  \n",
    "  def call(str)\n",
    "    hash = StartPrime\n",
    "    str.each_codepoint do |c|\n",
    "      hash = ((hash << BitShift) + hash) + c\n",
    "    end\n",
    "    output_num = hash % mod_prime\n",
    "    \"#{output_num}\".rjust(mod_prime.to_s.length, \"0\")\n",
    "  end\n",
    "  \n",
    "  def find_collision(iterations = 1000)\n",
    "    hashes = {}\n",
    "\n",
    "    (1..iterations).each do |num|\n",
    "      str = num.to_s 36\n",
    "      hash = self.call(str)\n",
    "\n",
    "      if hashes[hash]\n",
    "        puts \"Found collision between '#{str}' and '#{hashes[hash]}' in #{num} iterations\" \n",
    "        return hash\n",
    "      end\n",
    "\n",
    "      hashes[hash] = str\n",
    "    end\n",
    "  end\n",
    "end"
   ]
  },
  {
   "cell_type": "markdown",
   "id": "e3424cd8",
   "metadata": {},
   "source": [
    "We need to set the `mod_prime` value, which is used to make sure we have constant sized output. We'll set it to `97` for now.  Note - this also represents the largest hash value we can create."
   ]
  },
  {
   "cell_type": "code",
   "execution_count": 2,
   "id": "90e30369",
   "metadata": {},
   "outputs": [
    {
     "data": {
      "text/plain": [
       "97"
      ]
     },
     "execution_count": 2,
     "metadata": {},
     "output_type": "execute_result"
    }
   ],
   "source": [
    "BreakableHash.mod_prime = 97"
   ]
  },
  {
   "cell_type": "markdown",
   "id": "3d51ea90",
   "metadata": {},
   "source": [
    "Let's see how many iterations it takes to find a collision:"
   ]
  },
  {
   "cell_type": "code",
   "execution_count": 3,
   "id": "032c50fd",
   "metadata": {},
   "outputs": [
    {
     "name": "stdout",
     "output_type": "stream",
     "text": [
      "Found collision between '10' and 'j' in 36 iterations\n"
     ]
    },
    {
     "data": {
      "text/plain": [
       "\"26\""
      ]
     },
     "execution_count": 3,
     "metadata": {},
     "output_type": "execute_result"
    }
   ],
   "source": [
    "BreakableHash.find_collision"
   ]
  },
  {
   "cell_type": "markdown",
   "id": "95d33c64",
   "metadata": {},
   "source": [
    "We found a collision rather easily!  If we make our `mod_prime` bigger, we'll reduce the likelihood of getting a collision:\n"
   ]
  },
  {
   "cell_type": "code",
   "execution_count": 4,
   "id": "b81ff2c1",
   "metadata": {},
   "outputs": [
    {
     "name": "stdout",
     "output_type": "stream",
     "text": [
      "Found collision between 'a0' and '3q' in 360 iterations\n"
     ]
    },
    {
     "data": {
      "text/plain": [
       "\"2711\""
      ]
     },
     "execution_count": 4,
     "metadata": {},
     "output_type": "execute_result"
    }
   ],
   "source": [
    "BreakableHash.mod_prime = 5869\n",
    "BreakableHash.find_collision"
   ]
  },
  {
   "cell_type": "markdown",
   "id": "f2631813",
   "metadata": {},
   "source": [
    "It takes considerably longer to find a collision!\n",
    "\n",
    "_Source code can be found at https://github.com/sballan/nyu_blockchain_hw2_"
   ]
  }
 ],
 "metadata": {
  "kernelspec": {
   "display_name": "Ruby 3.0.1",
   "language": "ruby",
   "name": "ruby"
  },
  "language_info": {
   "file_extension": ".rb",
   "mimetype": "application/x-ruby",
   "name": "ruby",
   "version": "3.0.1"
  }
 },
 "nbformat": 4,
 "nbformat_minor": 5
}
