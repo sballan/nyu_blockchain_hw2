{
 "cells": [
  {
   "cell_type": "markdown",
   "id": "0959587e",
   "metadata": {},
   "source": [
    "Samuel Ballan\n",
    "sb7875@nyu.edu\n",
    "7/21/2021\n",
    "\n",
    "## A Breakable Hashing Algorithm\n",
    "\n",
    "Hashing algorithm based on work by by [Professor Daniel J. Bernstein](https://www.partow.net/programming/hashfunctions/#DJBHashFunction)"
   ]
  },
  {
   "cell_type": "code",
   "execution_count": 29,
   "id": "ef223dec",
   "metadata": {},
   "outputs": [
    {
     "data": {
      "text/plain": [
       ":call"
      ]
     },
     "execution_count": 29,
     "metadata": {},
     "output_type": "execute_result"
    }
   ],
   "source": [
    "module DjbHash\n",
    "  extend self\n",
    "  \n",
    "  @start_prime = 5381\n",
    "  @mod_prime = 5869\n",
    "  \n",
    "  def call(str)\n",
    "    hash = @start_prime\n",
    "    str.each_codepoint do |c|\n",
    "      hash = ((hash << 5) + hash) + c\n",
    "    end\n",
    "    hash % @mod_prime\n",
    "  end\n",
    "end\n"
   ]
  },
  {
   "cell_type": "code",
   "execution_count": 30,
   "id": "24b036a7",
   "metadata": {},
   "outputs": [
    {
     "data": {
      "text/plain": [
       "[4087, 4042]"
      ]
     },
     "execution_count": 30,
     "metadata": {},
     "output_type": "execute_result"
    }
   ],
   "source": [
    "[\"here's one str sjdlkfjs ldkjf lsdkjfslkdj flskdj fing\", \"and aning\"].map{|s| DjbHash.call s}"
   ]
  },
  {
   "cell_type": "code",
   "execution_count": null,
   "id": "795683f9",
   "metadata": {},
   "outputs": [],
   "source": []
  }
 ],
 "metadata": {
  "kernelspec": {
   "display_name": "Ruby 3.0.1",
   "language": "ruby",
   "name": "ruby"
  },
  "language_info": {
   "file_extension": ".rb",
   "mimetype": "application/x-ruby",
   "name": "ruby",
   "version": "3.0.1"
  }
 },
 "nbformat": 4,
 "nbformat_minor": 5
}
