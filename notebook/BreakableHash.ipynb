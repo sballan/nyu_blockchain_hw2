{
 "cells": [
  {
   "cell_type": "markdown",
   "id": "11b4a6f5",
   "metadata": {},
   "source": [
    "Samuel Ballan\n",
    "sb7875@nyu.edu\n",
    "7/21/2021\n",
    "\n",
    "## A Breakable Hashing Algorithm\n",
    "\n",
    "Hashing algorithm based on work by by [Professor Daniel J. Bernstein](https://www.partow.net/programming/hashfunctions/#DJBHashFunction)"
   ]
  },
  {
   "cell_type": "code",
   "execution_count": 58,
   "id": "e01483a3",
   "metadata": {},
   "outputs": [
    {
     "data": {
      "text/plain": [
       ":call"
      ]
     },
     "execution_count": 58,
     "metadata": {},
     "output_type": "execute_result"
    }
   ],
   "source": [
    "module DjbHash\n",
    "  extend self\n",
    "  \n",
    "  attr_accessor :mod_prime\n",
    "  \n",
    "  @start_prime = 5381\n",
    "#   @mod_prime = 5869\n",
    "  \n",
    "  def call(str)\n",
    "    hash = @start_prime\n",
    "    str.each_codepoint do |c|\n",
    "      hash = ((hash << 5) + hash) + c\n",
    "    end\n",
    "    output_num = hash % @mod_prime\n",
    "    \"#{output_num}\".rjust(mod_prime.to_s.length, \"0\")\n",
    "  end\n",
    "end\n"
   ]
  },
  {
   "cell_type": "code",
   "execution_count": 59,
   "id": "90db2fc8",
   "metadata": {},
   "outputs": [
    {
     "name": "stdout",
     "output_type": "stream",
     "text": [
      "30 has a collision with 1r\n"
     ]
    }
   ],
   "source": [
    "hashes = {}\n",
    "\n",
    "(1..5000).each do |num|\n",
    "  str = num.to_s 36\n",
    "  hash = DjbHash.call(str)\n",
    "\n",
    "  if hashes[hash]\n",
    "    puts \"#{str} has a collision with #{hashes[hash]}\" \n",
    "    break\n",
    "  end\n",
    "  \n",
    "  hashes[hash] = str\n",
    "end"
   ]
  },
  {
   "cell_type": "code",
   "execution_count": 62,
   "id": "0f8acb5b",
   "metadata": {},
   "outputs": [
    {
     "data": {
      "text/plain": [
       "true"
      ]
     },
     "execution_count": 62,
     "metadata": {},
     "output_type": "execute_result"
    }
   ],
   "source": [
    "DjbHash.call(\"1r\") == DjbHash.call(\"30\")"
   ]
  },
  {
   "cell_type": "code",
   "execution_count": 64,
   "id": "9d826460",
   "metadata": {},
   "outputs": [
    {
     "data": {
      "text/plain": [
       "\"0005861577\""
      ]
     },
     "execution_count": 64,
     "metadata": {},
     "output_type": "execute_result"
    }
   ],
   "source": [
    "DjbHash.mod_prime = 7778742049\n"
   ]
  }
 ],
 "metadata": {
  "kernelspec": {
   "display_name": "Ruby 3.0.1",
   "language": "ruby",
   "name": "ruby"
  },
  "language_info": {
   "file_extension": ".rb",
   "mimetype": "application/x-ruby",
   "name": "ruby",
   "version": "3.0.1"
  }
 },
 "nbformat": 4,
 "nbformat_minor": 5
}
